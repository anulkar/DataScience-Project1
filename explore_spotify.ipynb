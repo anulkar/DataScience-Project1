{
 "nbformat": 4,
 "nbformat_minor": 2,
 "metadata": {
  "language_info": {
   "name": "python",
   "codemirror_mode": {
    "name": "ipython",
    "version": 3
   },
   "version": "3.7.5-final"
  },
  "orig_nbformat": 2,
  "file_extension": ".py",
  "mimetype": "text/x-python",
  "name": "python",
  "npconvert_exporter": "python",
  "pygments_lexer": "ipython3",
  "version": 3,
  "kernelspec": {
   "name": "python37564bit8b14b58db01446fd8302b97cfcb7b62d",
   "display_name": "Python 3.7.5 64-bit"
  }
 },
 "cells": [
  {
   "cell_type": "code",
   "execution_count": 12,
   "metadata": {},
   "outputs": [],
   "source": [
    "# Dependencies and Setup\n",
    "import base64\n",
    "import matplotlib.pyplot as plt\n",
    "import pandas as pd\n",
    "import numpy as np\n",
    "import requests\n",
    "import base64\n",
    "from requests.auth import HTTPBasicAuth\n",
    "import scipy.stats as st\n",
    "\n",
    "# Import Spotify API key\n",
    "from api_keys import spotify_client_id, spotify_client_secret\n",
    "\n",
    "# Spotify Playlists Data Output File (CSV)\n",
    "spotify_playlists_csv = \"../datasets/spotify_playlists_data.csv\""
   ]
  },
  {
   "cell_type": "code",
   "execution_count": 13,
   "metadata": {},
   "outputs": [],
   "source": [
    "\"\"\"\n",
    "Code to manage Spotify's Client Credentials Flow as described here:\n",
    "https://developer.spotify.com/documentation/general/guides/authorization-guide/#client-credentials-flow\n",
    "\"\"\"\n",
    "# Build the Spotify Client ID and Secret combination\n",
    "spotify_client_id_secret = spotify_client_id + \":\" + spotify_client_secret\n",
    "# Generate the base64 encoded string that contains the client ID and client secret key\n",
    "base64_encoding = base64.b64encode(spotify_client_id_secret.encode()).decode()\n",
    "\n",
    "# Build the Spotify API URL to get the Bearer token\n",
    "spotify_token_url = 'https://accounts.spotify.com/api/token'\n",
    "\n",
    "# Build the payload, i.e. the request body parameters that need to be passed to the token API URL\n",
    "payload = 'grant_type=client_credentials'\n",
    "# Build the header for Content-Type and Basic Auth containing the base64 encoded string so we can generate the Spotify API token\n",
    "token_api_headers = { 'Content-Type': 'application/x-www-form-urlencoded', 'Authorization': 'Basic %s' % base64_encoding }\n",
    "\n",
    "# Call the token API URL and save as a JSON response object\n",
    "spotify_token_response = requests.post(spotify_token_url, headers=token_api_headers, data=payload).json()\n",
    "# Retrieve the Bearer token from the response object\n",
    "spotify_access_token = spotify_token_response['access_token']"
   ]
  },
  {
   "cell_type": "code",
   "execution_count": 14,
   "metadata": {},
   "outputs": [
    {
     "data": {
      "text/html": "<div>\n<style scoped>\n    .dataframe tbody tr th:only-of-type {\n        vertical-align: middle;\n    }\n\n    .dataframe tbody tr th {\n        vertical-align: top;\n    }\n\n    .dataframe thead th {\n        text-align: right;\n    }\n</style>\n<table border=\"1\" class=\"dataframe\">\n  <thead>\n    <tr style=\"text-align: right;\">\n      <th></th>\n      <th>Track Name</th>\n      <th>Track Added At</th>\n      <th>Track Popularity</th>\n      <th>Track Duration</th>\n    </tr>\n  </thead>\n  <tbody>\n    <tr>\n      <th>0</th>\n      <td>Under The Wind</td>\n      <td>2020-01-08T21:58:16Z</td>\n      <td>60</td>\n      <td>240000</td>\n    </tr>\n    <tr>\n      <th>1</th>\n      <td>Safe And Sound</td>\n      <td>2020-01-08T21:58:16Z</td>\n      <td>61</td>\n      <td>169363</td>\n    </tr>\n    <tr>\n      <th>2</th>\n      <td>alpha waves</td>\n      <td>2020-01-08T21:58:16Z</td>\n      <td>57</td>\n      <td>205127</td>\n    </tr>\n    <tr>\n      <th>3</th>\n      <td>Dawning</td>\n      <td>2020-01-08T21:58:16Z</td>\n      <td>60</td>\n      <td>206419</td>\n    </tr>\n    <tr>\n      <th>4</th>\n      <td>Curiosity</td>\n      <td>2020-01-08T21:58:16Z</td>\n      <td>61</td>\n      <td>155820</td>\n    </tr>\n    <tr>\n      <th>...</th>\n      <td>...</td>\n      <td>...</td>\n      <td>...</td>\n      <td>...</td>\n    </tr>\n    <tr>\n      <th>95</th>\n      <td>Tracking Aeroplanes</td>\n      <td>2020-01-08T21:58:16Z</td>\n      <td>53</td>\n      <td>468927</td>\n    </tr>\n    <tr>\n      <th>96</th>\n      <td>Final Mid</td>\n      <td>2020-01-08T21:58:16Z</td>\n      <td>50</td>\n      <td>129199</td>\n    </tr>\n    <tr>\n      <th>97</th>\n      <td>they sink</td>\n      <td>2020-01-08T21:58:16Z</td>\n      <td>54</td>\n      <td>155484</td>\n    </tr>\n    <tr>\n      <th>98</th>\n      <td>Ether</td>\n      <td>2020-01-08T21:58:16Z</td>\n      <td>51</td>\n      <td>189040</td>\n    </tr>\n    <tr>\n      <th>99</th>\n      <td>Blue Adrian</td>\n      <td>2020-01-08T21:58:16Z</td>\n      <td>55</td>\n      <td>187910</td>\n    </tr>\n  </tbody>\n</table>\n<p>100 rows × 4 columns</p>\n</div>",
      "text/plain": "             Track Name        Track Added At  Track Popularity  \\\n0        Under The Wind  2020-01-08T21:58:16Z                60   \n1        Safe And Sound  2020-01-08T21:58:16Z                61   \n2           alpha waves  2020-01-08T21:58:16Z                57   \n3               Dawning  2020-01-08T21:58:16Z                60   \n4             Curiosity  2020-01-08T21:58:16Z                61   \n..                  ...                   ...               ...   \n95  Tracking Aeroplanes  2020-01-08T21:58:16Z                53   \n96            Final Mid  2020-01-08T21:58:16Z                50   \n97            they sink  2020-01-08T21:58:16Z                54   \n98                Ether  2020-01-08T21:58:16Z                51   \n99          Blue Adrian  2020-01-08T21:58:16Z                55   \n\n    Track Duration  \n0           240000  \n1           169363  \n2           205127  \n3           206419  \n4           155820  \n..             ...  \n95          468927  \n96          129199  \n97          155484  \n98          189040  \n99          187910  \n\n[100 rows x 4 columns]"
     },
     "execution_count": 14,
     "metadata": {},
     "output_type": "execute_result"
    }
   ],
   "source": [
    "\"\"\"\n",
    "Code to retrieve a Spotify Playlist's Tracks and related data:\n",
    "https://developer.spotify.com/documentation/web-api/reference/playlists/get-playlists-tracks/\n",
    "\"\"\"\n",
    "# Sample Playlist ID\n",
    "spotify_playlist_id = '37i9dQZF1DWZeKCadgRdKQ'\n",
    "\n",
    "# Build Spotify's Get Playlist's Tracks URL\n",
    "spotify_playlists_url = f'https://api.spotify.com/v1/playlists/{spotify_playlist_id}/tracks'\n",
    "# Build the header for Bearer token containing the base64 encoded string so we can retrieve the playlist's tracks \n",
    "playlist_api_headers = { 'Authorization': 'Bearer %s' % spotify_access_token }\n",
    "# Call the Get Playlist's Tracks API URL and save as a JSON response object\n",
    "spotify_playlists_response = requests.get(spotify_playlists_url, headers=playlist_api_headers, data={}).json()\n",
    "\n",
    "# Initialize lists to save playlist data\n",
    "track_added_at = []\n",
    "track_names = []\n",
    "track_popularity = []\n",
    "track_duration = []\n",
    "\n",
    "# Get total tracks in playlist\n",
    "total_tracks = spotify_playlists_response['total']\n",
    "\n",
    "# Playlist returns a track object\n",
    "for item in range(len(spotify_playlists_response['items'])):\n",
    "    # Get the date and time the track was added to the playlist \n",
    "    track_added_at.append(spotify_playlists_response['items'][item]['added_at'])\n",
    "    # Get the name of the track\n",
    "    track_names.append(spotify_playlists_response['items'][item]['track']['name'])\n",
    "    # Get the popularity score of the track\n",
    "    track_popularity.append(spotify_playlists_response['items'][item]['track']['popularity'])\n",
    "    # Get the track duration (song length) in milliseconds\n",
    "    track_duration.append(spotify_playlists_response['items'][item]['track']['duration_ms'])\n",
    "\n",
    "# Save the retrieved weather data into a Data Frame\n",
    "playlist_data_df = pd.DataFrame( {'Track Name': track_names, 'Track Added At': track_added_at, 'Track Popularity': track_popularity, 'Track Duration': track_duration } )\n",
    "\n",
    "# Display the playlist's tracks data frame\n",
    "playlist_data_df"
   ]
  },
  {
   "cell_type": "code",
   "execution_count": null,
   "metadata": {},
   "outputs": [],
   "source": []
  }
 ]
}