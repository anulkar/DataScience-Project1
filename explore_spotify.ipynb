{
 "cells": [
  {
   "cell_type": "code",
   "execution_count": 6,
   "metadata": {},
   "outputs": [],
   "source": [
    "# Dependencies and Setup\n",
    "import base64\n",
    "import matplotlib.pyplot as plt\n",
    "import pandas as pd\n",
    "import numpy as np\n",
    "import requests\n",
    "import base64\n",
    "from requests.auth import HTTPBasicAuth\n",
    "import scipy.stats as st\n",
    "from pprint import pprint\n",
    "\n",
    "# Import Spotify API key\n",
    "from api_keys import spotify_client_id, spotify_client_secret"
   ]
  },
  {
   "cell_type": "code",
   "execution_count": 7,
   "metadata": {},
   "outputs": [],
   "source": [
    "# Create playlist dataframe from csv file that contains a list of playlist IDs that we want to search tracks for\n",
    "play_df = pd.read_csv(\"datasets/spotify_playlists_input.csv\")\n",
    "play_df.head()\n",
    "\n",
    "# Prepare output csv file path to save the playlists and tracks data retrieved from the Spotify API\n",
    "spotify_playlists_csv = \"datasets/spotify_playlists_output.csv\""
   ]
  },
  {
   "cell_type": "code",
   "execution_count": 8,
   "metadata": {},
   "outputs": [],
   "source": [
    "\"\"\"\n",
    "Code to manage Spotify's Client Credentials Flow as described here:\n",
    "https://developer.spotify.com/documentation/general/guides/authorization-guide/#client-credentials-flow\n",
    "\"\"\"\n",
    "# Build the Spotify Client ID and Secret combination\n",
    "spotify_client_id_secret = spotify_client_id + \":\" + spotify_client_secret\n",
    "# Generate the base64 encoded string that contains the client ID and client secret key\n",
    "base64_encoding = base64.b64encode(spotify_client_id_secret.encode()).decode()\n",
    "\n",
    "# Build the Spotify API URL to get the Bearer token\n",
    "spotify_token_url = 'https://accounts.spotify.com/api/token'\n",
    "\n",
    "# Build the payload, i.e. the request body parameters that need to be passed to the token API URL\n",
    "payload = 'grant_type=client_credentials'\n",
    "# Build the header for Content-Type and Basic Auth containing the base64 encoded string so we can generate the Spotify API token\n",
    "token_api_headers = { 'Content-Type': 'application/x-www-form-urlencoded', 'Authorization': 'Basic %s' % base64_encoding }\n",
    "\n",
    "# Call the token API URL and save as a JSON response object\n",
    "spotify_token_response = requests.post(spotify_token_url, headers=token_api_headers, data=payload).json()\n",
    "# Retrieve the Bearer token from the response object\n",
    "spotify_access_token = spotify_token_response['access_token']"
   ]
  },
  {
   "cell_type": "code",
   "execution_count": 9,
   "metadata": {},
   "outputs": [
    {
     "name": "stdout",
     "output_type": "stream",
     "text": "Finished processing Playlist 37i9dQZF1DXcBWIGoYBM5M with total tracks: 50 | Retrieval limited to 50\nFinished processing Playlist 37i9dQZF1DX0XUsuxWHRQd with total tracks: 54 | Retrieval limited to 54\nFinished processing Playlist 37i9dQZF1DWY4xHQp97fN6 with total tracks: 100 | Retrieval limited to 100\nFinished processing Playlist 37i9dQZF1DX1lVhptIYRda with total tracks: 52 | Retrieval limited to 52\nFinished processing Playlist 37i9dQZF1DX4WYpdgoIcn6 with total tracks: 115 | Retrieval limited to 100\nFinished processing Playlist 37i9dQZF1DXbYM3nMM0oPk with total tracks: 75 | Retrieval limited to 75\nFinished processing Playlist 37i9dQZF1DX4JAvHpjipBk with total tracks: 96 | Retrieval limited to 96\nFinished processing Playlist 37i9dQZF1DX76Wlfdnj7AP with total tracks: 150 | Retrieval limited to 100\nFinished processing Playlist 37i9dQZF1DX6GwdWRQMQpq with total tracks: 50 | Retrieval limited to 50\nFinished processing Playlist 37i9dQZF1DX5gQonLbZD9s with total tracks: 60 | Retrieval limited to 60\nFinished processing Playlist 37i9dQZF1DX3rxVfibe1L0 with total tracks: 73 | Retrieval limited to 73\nFinished processing Playlist 37i9dQZF1DX6R7QUWePReA with total tracks: 60 | Retrieval limited to 60\nFinished processing Playlist 37i9dQZF1DWUa8ZRTfalHk with total tracks: 76 | Retrieval limited to 76\nFinished processing Playlist 37i9dQZF1DWXRqgorJj26U with total tracks: 150 | Retrieval limited to 100\nFinished processing Playlist 37i9dQZF1DX10zKzsJ2jva with total tracks: 53 | Retrieval limited to 53\nFinished processing Playlist 37i9dQZF1DWTkxQvqMy4WW with total tracks: 50 | Retrieval limited to 50\nFinished processing Playlist 37i9dQZF1DWWQRwui0ExPn with total tracks: 450 | Retrieval limited to 100\nFinished processing Playlist 37i9dQZF1DXdPec7aLTmlC with total tracks: 100 | Retrieval limited to 100\nFinished processing Playlist 37i9dQZF1DX4UtSsGT1Sbe with total tracks: 105 | Retrieval limited to 100\nFinished processing Playlist 37i9dQZF1DX2RxBh64BHjQ with total tracks: 100 | Retrieval limited to 100\n"
    }
   ],
   "source": [
    "\"\"\"\n",
    "Code to retrieve a Spotify Playlist's Tracks and related data:\n",
    "https://developer.spotify.com/documentation/web-api/reference/playlists/get-playlists-tracks/\n",
    "\"\"\"\n",
    "# Sample Playlist ID\n",
    "playlist_ids = play_df[\"List ID\"]\n",
    "\n",
    "# Initialize lists to save playlist data\n",
    "track_added_at = []\n",
    "track_names = []\n",
    "track_popularity = []\n",
    "track_durations = []\n",
    "artists = []\n",
    "albums = []\n",
    "album_types = []\n",
    "release_dates = []\n",
    "num_available_markets = []\n",
    "\n",
    "#loops for creating dataframe columns\n",
    "for playlist_id in playlist_ids:\n",
    "\n",
    "    # Handle any exceptions for Spotify's Get Playlist's Tracks API\n",
    "    try:\n",
    "        # Build Spotify's Get Playlist's Tracks URL\n",
    "        spotify_playlists_url = f'https://api.spotify.com/v1/playlists/{playlist_id}/tracks'\n",
    "        # Build the header for Bearer token containing the base64 encoded string so we can retrieve the playlist's tracks \n",
    "        playlist_api_headers = { 'Authorization': 'Bearer %s' % spotify_access_token }\n",
    "        # Call the Get Playlist's Tracks API URL and save as a JSON response object\n",
    "        spotify_playlists_response = requests.get(spotify_playlists_url, headers=playlist_api_headers, data={}).json()\n",
    "        \n",
    "        # Get total tracks contained in playlist\n",
    "        total_tracks = spotify_playlists_response['total']\n",
    "        # Number of tracks that can be retrieved (Spotify limit = 100)\n",
    "        track_limit = len(spotify_playlists_response['items'])\n",
    "\n",
    "        # Playlist returns a track object which we will parse to retrieve all the track, album and artist data\n",
    "        for item in range(track_limit):\n",
    "            \n",
    "            # Check if a track has a video\n",
    "            if spotify_playlists_response['items'][item]['track'] is not None:\n",
    "                # Get the date and time the track was added to the playlist \n",
    "                track_added_at.append(spotify_playlists_response['items'][item]['added_at'])\n",
    "                # Get the name of the track\n",
    "                track_names.append(spotify_playlists_response['items'][item]['track']['name'])\n",
    "                # Get the popularity score of the track\n",
    "                track_popularity.append(spotify_playlists_response['items'][item]['track']['popularity'])\n",
    "                # Get the track duration (song length) in milliseconds\n",
    "                track_durations.append(spotify_playlists_response['items'][item]['track']['duration_ms'])\n",
    "                # Get the number of markets that the track is available in\n",
    "                num_available_markets.append(len(spotify_playlists_response['items'][item]['track']['available_markets']))\n",
    "                # Get the album name\n",
    "                albums.append(spotify_playlists_response['items'][item]['track']['album']['name'])\n",
    "                # Get the album type: single, album or compilation\n",
    "                album_types.append(spotify_playlists_response['items'][item]['track']['album']['album_type'])\n",
    "                # Get the album release date\n",
    "                release_dates.append(spotify_playlists_response['items'][item]['track']['album']['release_date'])\n",
    "\n",
    "                # Each track could be associated with one or more artists\n",
    "                # Parse through each artist object to retrieve their names\n",
    "                \n",
    "                artist_name = ''\n",
    "                artists_count = len(spotify_playlists_response['items'][item]['track']['artists'])\n",
    "                for artist in range(artists_count):\n",
    "                    artist_name = artist_name + '|' + spotify_playlists_response['items'][item]['track']['artists'][artist]['name']\n",
    "\n",
    "                artists.append(artist_name)\n",
    "                \n",
    "        print(f\"Finished processing Playlist {playlist_id} with total tracks: {total_tracks} | Retrieval limited to {track_limit}\")\n",
    "\n",
    "    # Catch any exceptions thrown by the Spotify API\n",
    "    except Exception as e:\n",
    "        print(e)\n",
    "        pass"
   ]
  },
  {
   "cell_type": "code",
   "execution_count": 10,
   "metadata": {},
   "outputs": [
    {
     "data": {
      "text/html": "<div>\n<style scoped>\n    .dataframe tbody tr th:only-of-type {\n        vertical-align: middle;\n    }\n\n    .dataframe tbody tr th {\n        vertical-align: top;\n    }\n\n    .dataframe thead th {\n        text-align: right;\n    }\n</style>\n<table border=\"1\" class=\"dataframe\">\n  <thead>\n    <tr style=\"text-align: right;\">\n      <th></th>\n      <th>Track Name</th>\n      <th>Track Added At</th>\n      <th>Track Popularity</th>\n      <th>Track Duration</th>\n      <th>Available Markets</th>\n      <th>Album</th>\n      <th>Album Type</th>\n      <th>Artist</th>\n      <th>Release Date</th>\n    </tr>\n  </thead>\n  <tbody>\n    <tr>\n      <th>0</th>\n      <td>Blinding Lights</td>\n      <td>2020-01-28T11:01:50Z</td>\n      <td>98</td>\n      <td>201573</td>\n      <td>79</td>\n      <td>Blinding Lights</td>\n      <td>single</td>\n      <td>|The Weeknd</td>\n      <td>2019-11-29</td>\n    </tr>\n    <tr>\n      <th>1</th>\n      <td>You should be sad</td>\n      <td>2020-01-28T11:01:50Z</td>\n      <td>89</td>\n      <td>205473</td>\n      <td>79</td>\n      <td>You should be sad</td>\n      <td>single</td>\n      <td>|Halsey</td>\n      <td>2020-01-10</td>\n    </tr>\n    <tr>\n      <th>2</th>\n      <td>The Box</td>\n      <td>2020-01-28T11:01:50Z</td>\n      <td>100</td>\n      <td>196652</td>\n      <td>78</td>\n      <td>Please Excuse Me For Being Antisocial</td>\n      <td>album</td>\n      <td>|Roddy Ricch</td>\n      <td>2019-12-06</td>\n    </tr>\n    <tr>\n      <th>3</th>\n      <td>bad guy</td>\n      <td>2020-01-28T11:01:50Z</td>\n      <td>95</td>\n      <td>194087</td>\n      <td>79</td>\n      <td>WHEN WE ALL FALL ASLEEP, WHERE DO WE GO?</td>\n      <td>album</td>\n      <td>|Billie Eilish</td>\n      <td>2019-03-29</td>\n    </tr>\n    <tr>\n      <th>4</th>\n      <td>Falling</td>\n      <td>2020-01-28T11:01:50Z</td>\n      <td>98</td>\n      <td>159381</td>\n      <td>79</td>\n      <td>Falling</td>\n      <td>single</td>\n      <td>|Trevor Daniel</td>\n      <td>2018-10-05</td>\n    </tr>\n  </tbody>\n</table>\n</div>",
      "text/plain": "          Track Name        Track Added At  Track Popularity  Track Duration  \\\n0    Blinding Lights  2020-01-28T11:01:50Z                98          201573   \n1  You should be sad  2020-01-28T11:01:50Z                89          205473   \n2            The Box  2020-01-28T11:01:50Z               100          196652   \n3            bad guy  2020-01-28T11:01:50Z                95          194087   \n4            Falling  2020-01-28T11:01:50Z                98          159381   \n\n   Available Markets                                     Album Album Type  \\\n0                 79                           Blinding Lights     single   \n1                 79                         You should be sad     single   \n2                 78     Please Excuse Me For Being Antisocial      album   \n3                 79  WHEN WE ALL FALL ASLEEP, WHERE DO WE GO?      album   \n4                 79                                   Falling     single   \n\n           Artist Release Date  \n0     |The Weeknd   2019-11-29  \n1         |Halsey   2020-01-10  \n2    |Roddy Ricch   2019-12-06  \n3  |Billie Eilish   2019-03-29  \n4  |Trevor Daniel   2018-10-05  "
     },
     "execution_count": 10,
     "metadata": {},
     "output_type": "execute_result"
    }
   ],
   "source": [
    "# Save the retrieved playlists' track data into a Data Frame\n",
    "playlist_data_df = pd.DataFrame( {'Track Name': track_names, 'Track Added At': track_added_at, 'Track Popularity': track_popularity, 'Track Duration': track_durations, 'Available Markets': num_available_markets, 'Album': albums, 'Album Type': album_types, 'Artist': artists, 'Release Date': release_dates } )\n",
    "\n",
    "# Export the playlists' tracks data to a csv\n",
    "playlist_data_df.to_csv(spotify_playlists_csv)\n",
    "\n",
    "# Display the playlists' tracks data frame\n",
    "playlist_data_df.head()"
   ]
  }
 ],
 "metadata": {
  "file_extension": ".py",
  "kernelspec": {
   "display_name": "Python 3",
   "language": "python",
   "name": "python3"
  },
  "language_info": {
   "codemirror_mode": {
    "name": "ipython",
    "version": 3
   },
   "file_extension": ".py",
   "mimetype": "text/x-python",
   "name": "python",
   "nbconvert_exporter": "python",
   "pygments_lexer": "ipython3",
   "version": "3.7.5-final"
  },
  "mimetype": "text/x-python",
  "name": "python",
  "npconvert_exporter": "python",
  "pygments_lexer": "ipython3",
  "version": 3
 },
 "nbformat": 4,
 "nbformat_minor": 2
}