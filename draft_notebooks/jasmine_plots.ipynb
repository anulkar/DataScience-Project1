{
 "cells": [
  {
   "cell_type": "code",
   "execution_count": 2,
   "metadata": {},
   "outputs": [],
   "source": [
    "#Import dependencies\n",
    "import matplotlib.pyplot as plt\n",
    "import pandas as pd\n",
    "import numpy as np\n",
    "import scipy.stats as stats\n",
    "import warnings\n",
    "warnings.filterwarnings('ignore')\n",
    "import seaborn as sns\n",
    "%matplotlib inline"
   ]
  },
  {
   "cell_type": "code",
   "execution_count": 3,
   "metadata": {},
   "outputs": [],
   "source": [
    "# play_df = pd.read_csv(\"datasets/spotify_playlists_output.csv\")\n",
    "# play_df"
   ]
  },
  {
   "cell_type": "code",
   "execution_count": 4,
   "metadata": {},
   "outputs": [],
   "source": [
    "# play_df.plot(kind=\"scatter\", x='Available Markets', y='Track Popularity', grid=True,\n",
    "#               title='Popularity vs. Available Markets', edgecolors='black', color='green')"
   ]
  },
  {
   "cell_type": "code",
   "execution_count": 5,
   "metadata": {},
   "outputs": [],
   "source": [
    "# play_df.plot(kind=\"scatter\", x='Track Duration', y='Track Popularity', grid=True,\n",
    "#               title='Popularity vs. Duration', edgecolors='black', color='green')"
   ]
  },
  {
   "cell_type": "code",
   "execution_count": 13,
   "metadata": {},
   "outputs": [
    {
     "data": {
      "text/html": [
       "<div>\n",
       "<style scoped>\n",
       "    .dataframe tbody tr th:only-of-type {\n",
       "        vertical-align: middle;\n",
       "    }\n",
       "\n",
       "    .dataframe tbody tr th {\n",
       "        vertical-align: top;\n",
       "    }\n",
       "\n",
       "    .dataframe thead th {\n",
       "        text-align: right;\n",
       "    }\n",
       "</style>\n",
       "<table border=\"1\" class=\"dataframe\">\n",
       "  <thead>\n",
       "    <tr style=\"text-align: right;\">\n",
       "      <th></th>\n",
       "      <th>Unnamed: 0</th>\n",
       "      <th>Playlist ID</th>\n",
       "      <th>Track ID</th>\n",
       "      <th>Track Position</th>\n",
       "      <th>Track Name</th>\n",
       "      <th>Track Added At</th>\n",
       "      <th>Track Popularity</th>\n",
       "      <th>Track Duration</th>\n",
       "      <th>Available Markets</th>\n",
       "      <th>Album</th>\n",
       "      <th>...</th>\n",
       "      <th>Time Signature</th>\n",
       "      <th>Acousticness</th>\n",
       "      <th>Danceability</th>\n",
       "      <th>Energy</th>\n",
       "      <th>Instrumentalness</th>\n",
       "      <th>Liveness</th>\n",
       "      <th>Loudness</th>\n",
       "      <th>Speechiness</th>\n",
       "      <th>Valence</th>\n",
       "      <th>Tempo</th>\n",
       "    </tr>\n",
       "  </thead>\n",
       "  <tbody>\n",
       "    <tr>\n",
       "      <td>0</td>\n",
       "      <td>0</td>\n",
       "      <td>37i9dQZF1DXcBWIGoYBM5M</td>\n",
       "      <td>2usxQITOSDqvkYiI0oIwao</td>\n",
       "      <td>1</td>\n",
       "      <td>You should be sad</td>\n",
       "      <td>2020-01-29T19:04:50Z</td>\n",
       "      <td>89</td>\n",
       "      <td>205473</td>\n",
       "      <td>79</td>\n",
       "      <td>You should be sad</td>\n",
       "      <td>...</td>\n",
       "      <td>4.0</td>\n",
       "      <td>0.14300</td>\n",
       "      <td>0.591</td>\n",
       "      <td>0.585</td>\n",
       "      <td>0.000000</td>\n",
       "      <td>0.1090</td>\n",
       "      <td>-6.350</td>\n",
       "      <td>0.0277</td>\n",
       "      <td>0.324</td>\n",
       "      <td>110.940</td>\n",
       "    </tr>\n",
       "    <tr>\n",
       "      <td>1</td>\n",
       "      <td>1</td>\n",
       "      <td>37i9dQZF1DXcBWIGoYBM5M</td>\n",
       "      <td>0nbXyq5TXYPCO7pr3N8S4I</td>\n",
       "      <td>2</td>\n",
       "      <td>The Box</td>\n",
       "      <td>2020-01-29T19:04:50Z</td>\n",
       "      <td>100</td>\n",
       "      <td>196652</td>\n",
       "      <td>78</td>\n",
       "      <td>Please Excuse Me For Being Antisocial</td>\n",
       "      <td>...</td>\n",
       "      <td>4.0</td>\n",
       "      <td>0.10400</td>\n",
       "      <td>0.896</td>\n",
       "      <td>0.586</td>\n",
       "      <td>0.000000</td>\n",
       "      <td>0.7900</td>\n",
       "      <td>-6.687</td>\n",
       "      <td>0.0559</td>\n",
       "      <td>0.642</td>\n",
       "      <td>116.971</td>\n",
       "    </tr>\n",
       "    <tr>\n",
       "      <td>2</td>\n",
       "      <td>2</td>\n",
       "      <td>37i9dQZF1DXcBWIGoYBM5M</td>\n",
       "      <td>2Fxmhks0bxGSBdJ92vM42m</td>\n",
       "      <td>3</td>\n",
       "      <td>bad guy</td>\n",
       "      <td>2020-01-29T19:04:50Z</td>\n",
       "      <td>95</td>\n",
       "      <td>194087</td>\n",
       "      <td>79</td>\n",
       "      <td>WHEN WE ALL FALL ASLEEP, WHERE DO WE GO?</td>\n",
       "      <td>...</td>\n",
       "      <td>4.0</td>\n",
       "      <td>0.32800</td>\n",
       "      <td>0.701</td>\n",
       "      <td>0.425</td>\n",
       "      <td>0.130000</td>\n",
       "      <td>0.1000</td>\n",
       "      <td>-10.965</td>\n",
       "      <td>0.3750</td>\n",
       "      <td>0.562</td>\n",
       "      <td>135.128</td>\n",
       "    </tr>\n",
       "    <tr>\n",
       "      <td>3</td>\n",
       "      <td>3</td>\n",
       "      <td>37i9dQZF1DXcBWIGoYBM5M</td>\n",
       "      <td>0sf12qNH5qcw8qpgymFOqD</td>\n",
       "      <td>4</td>\n",
       "      <td>Blinding Lights</td>\n",
       "      <td>2020-01-29T19:04:50Z</td>\n",
       "      <td>98</td>\n",
       "      <td>201573</td>\n",
       "      <td>79</td>\n",
       "      <td>Blinding Lights</td>\n",
       "      <td>...</td>\n",
       "      <td>4.0</td>\n",
       "      <td>0.00147</td>\n",
       "      <td>0.513</td>\n",
       "      <td>0.796</td>\n",
       "      <td>0.000209</td>\n",
       "      <td>0.0938</td>\n",
       "      <td>-4.075</td>\n",
       "      <td>0.0629</td>\n",
       "      <td>0.345</td>\n",
       "      <td>171.017</td>\n",
       "    </tr>\n",
       "    <tr>\n",
       "      <td>4</td>\n",
       "      <td>4</td>\n",
       "      <td>37i9dQZF1DXcBWIGoYBM5M</td>\n",
       "      <td>4TnjEaWOeW0eKTKIEvJyCa</td>\n",
       "      <td>5</td>\n",
       "      <td>Falling</td>\n",
       "      <td>2020-01-29T19:04:50Z</td>\n",
       "      <td>98</td>\n",
       "      <td>159381</td>\n",
       "      <td>79</td>\n",
       "      <td>Falling</td>\n",
       "      <td>...</td>\n",
       "      <td>4.0</td>\n",
       "      <td>0.12300</td>\n",
       "      <td>0.784</td>\n",
       "      <td>0.430</td>\n",
       "      <td>0.000000</td>\n",
       "      <td>0.0887</td>\n",
       "      <td>-8.756</td>\n",
       "      <td>0.0364</td>\n",
       "      <td>0.236</td>\n",
       "      <td>127.087</td>\n",
       "    </tr>\n",
       "  </tbody>\n",
       "</table>\n",
       "<p>5 rows × 25 columns</p>\n",
       "</div>"
      ],
      "text/plain": [
       "   Unnamed: 0             Playlist ID                Track ID  Track Position  \\\n",
       "0           0  37i9dQZF1DXcBWIGoYBM5M  2usxQITOSDqvkYiI0oIwao               1   \n",
       "1           1  37i9dQZF1DXcBWIGoYBM5M  0nbXyq5TXYPCO7pr3N8S4I               2   \n",
       "2           2  37i9dQZF1DXcBWIGoYBM5M  2Fxmhks0bxGSBdJ92vM42m               3   \n",
       "3           3  37i9dQZF1DXcBWIGoYBM5M  0sf12qNH5qcw8qpgymFOqD               4   \n",
       "4           4  37i9dQZF1DXcBWIGoYBM5M  4TnjEaWOeW0eKTKIEvJyCa               5   \n",
       "\n",
       "          Track Name        Track Added At  Track Popularity  Track Duration  \\\n",
       "0  You should be sad  2020-01-29T19:04:50Z                89          205473   \n",
       "1            The Box  2020-01-29T19:04:50Z               100          196652   \n",
       "2            bad guy  2020-01-29T19:04:50Z                95          194087   \n",
       "3    Blinding Lights  2020-01-29T19:04:50Z                98          201573   \n",
       "4            Falling  2020-01-29T19:04:50Z                98          159381   \n",
       "\n",
       "   Available Markets                                     Album  ...  \\\n",
       "0                 79                         You should be sad  ...   \n",
       "1                 78     Please Excuse Me For Being Antisocial  ...   \n",
       "2                 79  WHEN WE ALL FALL ASLEEP, WHERE DO WE GO?  ...   \n",
       "3                 79                           Blinding Lights  ...   \n",
       "4                 79                                   Falling  ...   \n",
       "\n",
       "  Time Signature Acousticness Danceability  Energy  Instrumentalness  \\\n",
       "0            4.0      0.14300        0.591   0.585          0.000000   \n",
       "1            4.0      0.10400        0.896   0.586          0.000000   \n",
       "2            4.0      0.32800        0.701   0.425          0.130000   \n",
       "3            4.0      0.00147        0.513   0.796          0.000209   \n",
       "4            4.0      0.12300        0.784   0.430          0.000000   \n",
       "\n",
       "   Liveness  Loudness  Speechiness  Valence    Tempo  \n",
       "0    0.1090    -6.350       0.0277    0.324  110.940  \n",
       "1    0.7900    -6.687       0.0559    0.642  116.971  \n",
       "2    0.1000   -10.965       0.3750    0.562  135.128  \n",
       "3    0.0938    -4.075       0.0629    0.345  171.017  \n",
       "4    0.0887    -8.756       0.0364    0.236  127.087  \n",
       "\n",
       "[5 rows x 25 columns]"
      ]
     },
     "execution_count": 13,
     "metadata": {},
     "output_type": "execute_result"
    }
   ],
   "source": [
    "#Import CSV file with Spotify Data\n",
    "playlist_df = pd.read_csv(\"datasets/playlist_top_5_output.csv\")\n",
    "playlist_df.head()"
   ]
  },
  {
   "cell_type": "code",
   "execution_count": 8,
   "metadata": {},
   "outputs": [],
   "source": [
    "# playlist_df.plot(kind=\"scatter\", x='Available Markets', y='Track Popularity', grid=True,\n",
    "#               title='Popularity vs. Available Markets', edgecolors='black', color='green')"
   ]
  },
  {
   "cell_type": "code",
   "execution_count": 7,
   "metadata": {},
   "outputs": [],
   "source": [
    "# playlist_df.plot(kind=\"scatter\", x='Track Duration', y='Track Popularity', grid=True,\n",
    "#               title='Popularity vs. Duration', edgecolors='black', color='green')"
   ]
  },
  {
   "cell_type": "code",
   "execution_count": 12,
   "metadata": {},
   "outputs": [
    {
     "data": {
      "text/html": [
       "<div>\n",
       "<style scoped>\n",
       "    .dataframe tbody tr th:only-of-type {\n",
       "        vertical-align: middle;\n",
       "    }\n",
       "\n",
       "    .dataframe tbody tr th {\n",
       "        vertical-align: top;\n",
       "    }\n",
       "\n",
       "    .dataframe thead th {\n",
       "        text-align: right;\n",
       "    }\n",
       "</style>\n",
       "<table border=\"1\" class=\"dataframe\">\n",
       "  <thead>\n",
       "    <tr style=\"text-align: right;\">\n",
       "      <th></th>\n",
       "      <th>Unnamed: 0</th>\n",
       "      <th>Playlist ID</th>\n",
       "      <th>Track ID</th>\n",
       "      <th>Track Position</th>\n",
       "      <th>Track Name</th>\n",
       "      <th>Track Added At</th>\n",
       "      <th>Track Popularity</th>\n",
       "      <th>Track Duration</th>\n",
       "      <th>Available Markets</th>\n",
       "      <th>Album</th>\n",
       "      <th>...</th>\n",
       "      <th>Danceability</th>\n",
       "      <th>Energy</th>\n",
       "      <th>Instrumentalness</th>\n",
       "      <th>Liveness</th>\n",
       "      <th>Loudness</th>\n",
       "      <th>Speechiness</th>\n",
       "      <th>Valence</th>\n",
       "      <th>Tempo</th>\n",
       "      <th>Name</th>\n",
       "      <th>Genre</th>\n",
       "    </tr>\n",
       "  </thead>\n",
       "  <tbody>\n",
       "    <tr>\n",
       "      <td>0</td>\n",
       "      <td>0</td>\n",
       "      <td>37i9dQZF1DXcBWIGoYBM5M</td>\n",
       "      <td>2usxQITOSDqvkYiI0oIwao</td>\n",
       "      <td>1</td>\n",
       "      <td>You should be sad</td>\n",
       "      <td>2020-01-29T19:04:50Z</td>\n",
       "      <td>89</td>\n",
       "      <td>205473</td>\n",
       "      <td>79</td>\n",
       "      <td>You should be sad</td>\n",
       "      <td>...</td>\n",
       "      <td>0.591</td>\n",
       "      <td>0.585</td>\n",
       "      <td>0.000000</td>\n",
       "      <td>0.1090</td>\n",
       "      <td>-6.350</td>\n",
       "      <td>0.0277</td>\n",
       "      <td>0.324</td>\n",
       "      <td>110.940</td>\n",
       "      <td>Today's Top Hits</td>\n",
       "      <td>Pop</td>\n",
       "    </tr>\n",
       "    <tr>\n",
       "      <td>1</td>\n",
       "      <td>1</td>\n",
       "      <td>37i9dQZF1DXcBWIGoYBM5M</td>\n",
       "      <td>0nbXyq5TXYPCO7pr3N8S4I</td>\n",
       "      <td>2</td>\n",
       "      <td>The Box</td>\n",
       "      <td>2020-01-29T19:04:50Z</td>\n",
       "      <td>100</td>\n",
       "      <td>196652</td>\n",
       "      <td>78</td>\n",
       "      <td>Please Excuse Me For Being Antisocial</td>\n",
       "      <td>...</td>\n",
       "      <td>0.896</td>\n",
       "      <td>0.586</td>\n",
       "      <td>0.000000</td>\n",
       "      <td>0.7900</td>\n",
       "      <td>-6.687</td>\n",
       "      <td>0.0559</td>\n",
       "      <td>0.642</td>\n",
       "      <td>116.971</td>\n",
       "      <td>Today's Top Hits</td>\n",
       "      <td>Pop</td>\n",
       "    </tr>\n",
       "    <tr>\n",
       "      <td>2</td>\n",
       "      <td>2</td>\n",
       "      <td>37i9dQZF1DXcBWIGoYBM5M</td>\n",
       "      <td>2Fxmhks0bxGSBdJ92vM42m</td>\n",
       "      <td>3</td>\n",
       "      <td>bad guy</td>\n",
       "      <td>2020-01-29T19:04:50Z</td>\n",
       "      <td>95</td>\n",
       "      <td>194087</td>\n",
       "      <td>79</td>\n",
       "      <td>WHEN WE ALL FALL ASLEEP, WHERE DO WE GO?</td>\n",
       "      <td>...</td>\n",
       "      <td>0.701</td>\n",
       "      <td>0.425</td>\n",
       "      <td>0.130000</td>\n",
       "      <td>0.1000</td>\n",
       "      <td>-10.965</td>\n",
       "      <td>0.3750</td>\n",
       "      <td>0.562</td>\n",
       "      <td>135.128</td>\n",
       "      <td>Today's Top Hits</td>\n",
       "      <td>Pop</td>\n",
       "    </tr>\n",
       "    <tr>\n",
       "      <td>3</td>\n",
       "      <td>3</td>\n",
       "      <td>37i9dQZF1DXcBWIGoYBM5M</td>\n",
       "      <td>0sf12qNH5qcw8qpgymFOqD</td>\n",
       "      <td>4</td>\n",
       "      <td>Blinding Lights</td>\n",
       "      <td>2020-01-29T19:04:50Z</td>\n",
       "      <td>98</td>\n",
       "      <td>201573</td>\n",
       "      <td>79</td>\n",
       "      <td>Blinding Lights</td>\n",
       "      <td>...</td>\n",
       "      <td>0.513</td>\n",
       "      <td>0.796</td>\n",
       "      <td>0.000209</td>\n",
       "      <td>0.0938</td>\n",
       "      <td>-4.075</td>\n",
       "      <td>0.0629</td>\n",
       "      <td>0.345</td>\n",
       "      <td>171.017</td>\n",
       "      <td>Today's Top Hits</td>\n",
       "      <td>Pop</td>\n",
       "    </tr>\n",
       "    <tr>\n",
       "      <td>4</td>\n",
       "      <td>4</td>\n",
       "      <td>37i9dQZF1DXcBWIGoYBM5M</td>\n",
       "      <td>4TnjEaWOeW0eKTKIEvJyCa</td>\n",
       "      <td>5</td>\n",
       "      <td>Falling</td>\n",
       "      <td>2020-01-29T19:04:50Z</td>\n",
       "      <td>98</td>\n",
       "      <td>159381</td>\n",
       "      <td>79</td>\n",
       "      <td>Falling</td>\n",
       "      <td>...</td>\n",
       "      <td>0.784</td>\n",
       "      <td>0.430</td>\n",
       "      <td>0.000000</td>\n",
       "      <td>0.0887</td>\n",
       "      <td>-8.756</td>\n",
       "      <td>0.0364</td>\n",
       "      <td>0.236</td>\n",
       "      <td>127.087</td>\n",
       "      <td>Today's Top Hits</td>\n",
       "      <td>Pop</td>\n",
       "    </tr>\n",
       "  </tbody>\n",
       "</table>\n",
       "<p>5 rows × 27 columns</p>\n",
       "</div>"
      ],
      "text/plain": [
       "   Unnamed: 0             Playlist ID                Track ID  Track Position  \\\n",
       "0           0  37i9dQZF1DXcBWIGoYBM5M  2usxQITOSDqvkYiI0oIwao               1   \n",
       "1           1  37i9dQZF1DXcBWIGoYBM5M  0nbXyq5TXYPCO7pr3N8S4I               2   \n",
       "2           2  37i9dQZF1DXcBWIGoYBM5M  2Fxmhks0bxGSBdJ92vM42m               3   \n",
       "3           3  37i9dQZF1DXcBWIGoYBM5M  0sf12qNH5qcw8qpgymFOqD               4   \n",
       "4           4  37i9dQZF1DXcBWIGoYBM5M  4TnjEaWOeW0eKTKIEvJyCa               5   \n",
       "\n",
       "          Track Name        Track Added At  Track Popularity  Track Duration  \\\n",
       "0  You should be sad  2020-01-29T19:04:50Z                89          205473   \n",
       "1            The Box  2020-01-29T19:04:50Z               100          196652   \n",
       "2            bad guy  2020-01-29T19:04:50Z                95          194087   \n",
       "3    Blinding Lights  2020-01-29T19:04:50Z                98          201573   \n",
       "4            Falling  2020-01-29T19:04:50Z                98          159381   \n",
       "\n",
       "   Available Markets                                     Album  ...  \\\n",
       "0                 79                         You should be sad  ...   \n",
       "1                 78     Please Excuse Me For Being Antisocial  ...   \n",
       "2                 79  WHEN WE ALL FALL ASLEEP, WHERE DO WE GO?  ...   \n",
       "3                 79                           Blinding Lights  ...   \n",
       "4                 79                                   Falling  ...   \n",
       "\n",
       "  Danceability Energy Instrumentalness  Liveness  Loudness  Speechiness  \\\n",
       "0        0.591  0.585         0.000000    0.1090    -6.350       0.0277   \n",
       "1        0.896  0.586         0.000000    0.7900    -6.687       0.0559   \n",
       "2        0.701  0.425         0.130000    0.1000   -10.965       0.3750   \n",
       "3        0.513  0.796         0.000209    0.0938    -4.075       0.0629   \n",
       "4        0.784  0.430         0.000000    0.0887    -8.756       0.0364   \n",
       "\n",
       "   Valence    Tempo              Name  Genre  \n",
       "0    0.324  110.940  Today's Top Hits    Pop  \n",
       "1    0.642  116.971  Today's Top Hits    Pop  \n",
       "2    0.562  135.128  Today's Top Hits    Pop  \n",
       "3    0.345  171.017  Today's Top Hits    Pop  \n",
       "4    0.236  127.087  Today's Top Hits    Pop  \n",
       "\n",
       "[5 rows x 27 columns]"
      ]
     },
     "execution_count": 12,
     "metadata": {},
     "output_type": "execute_result"
    }
   ],
   "source": [
    "#Import CSV input file used to pull Spotify data to merge and add Genre to \n",
    "genre_df = pd.read_csv(\"datasets/playlist_top_5_input.csv\")\n",
    "genre_df\n",
    "\n",
    "combined_df = playlist_df.merge(genre_df, on='Playlist ID')\n",
    "combined_df.head()"
   ]
  },
  {
   "cell_type": "code",
   "execution_count": 10,
   "metadata": {},
   "outputs": [
    {
     "data": {
      "text/html": [
       "<div>\n",
       "<style scoped>\n",
       "    .dataframe tbody tr th:only-of-type {\n",
       "        vertical-align: middle;\n",
       "    }\n",
       "\n",
       "    .dataframe tbody tr th {\n",
       "        vertical-align: top;\n",
       "    }\n",
       "\n",
       "    .dataframe thead th {\n",
       "        text-align: right;\n",
       "    }\n",
       "</style>\n",
       "<table border=\"1\" class=\"dataframe\">\n",
       "  <thead>\n",
       "    <tr style=\"text-align: right;\">\n",
       "      <th></th>\n",
       "      <th>Genre</th>\n",
       "      <th>Energy</th>\n",
       "    </tr>\n",
       "  </thead>\n",
       "  <tbody>\n",
       "    <tr>\n",
       "      <td>0</td>\n",
       "      <td>Pop</td>\n",
       "      <td>0.585</td>\n",
       "    </tr>\n",
       "    <tr>\n",
       "      <td>1</td>\n",
       "      <td>Pop</td>\n",
       "      <td>0.586</td>\n",
       "    </tr>\n",
       "    <tr>\n",
       "      <td>2</td>\n",
       "      <td>Pop</td>\n",
       "      <td>0.425</td>\n",
       "    </tr>\n",
       "    <tr>\n",
       "      <td>3</td>\n",
       "      <td>Pop</td>\n",
       "      <td>0.796</td>\n",
       "    </tr>\n",
       "    <tr>\n",
       "      <td>4</td>\n",
       "      <td>Pop</td>\n",
       "      <td>0.430</td>\n",
       "    </tr>\n",
       "    <tr>\n",
       "      <td>...</td>\n",
       "      <td>...</td>\n",
       "      <td>...</td>\n",
       "    </tr>\n",
       "    <tr>\n",
       "      <td>4428</td>\n",
       "      <td>Punk</td>\n",
       "      <td>0.691</td>\n",
       "    </tr>\n",
       "    <tr>\n",
       "      <td>4429</td>\n",
       "      <td>Punk</td>\n",
       "      <td>0.921</td>\n",
       "    </tr>\n",
       "    <tr>\n",
       "      <td>4430</td>\n",
       "      <td>Punk</td>\n",
       "      <td>0.861</td>\n",
       "    </tr>\n",
       "    <tr>\n",
       "      <td>4431</td>\n",
       "      <td>Punk</td>\n",
       "      <td>0.923</td>\n",
       "    </tr>\n",
       "    <tr>\n",
       "      <td>4432</td>\n",
       "      <td>Punk</td>\n",
       "      <td>0.901</td>\n",
       "    </tr>\n",
       "  </tbody>\n",
       "</table>\n",
       "<p>4433 rows × 2 columns</p>\n",
       "</div>"
      ],
      "text/plain": [
       "     Genre  Energy\n",
       "0      Pop   0.585\n",
       "1      Pop   0.586\n",
       "2      Pop   0.425\n",
       "3      Pop   0.796\n",
       "4      Pop   0.430\n",
       "...    ...     ...\n",
       "4428  Punk   0.691\n",
       "4429  Punk   0.921\n",
       "4430  Punk   0.861\n",
       "4431  Punk   0.923\n",
       "4432  Punk   0.901\n",
       "\n",
       "[4433 rows x 2 columns]"
      ]
     },
     "execution_count": 10,
     "metadata": {},
     "output_type": "execute_result"
    }
   ],
   "source": [
    "energy_df = combined_df[['Genre','Energy']]\n",
    "energy_df"
   ]
  },
  {
   "cell_type": "code",
   "execution_count": 11,
   "metadata": {},
   "outputs": [
    {
     "data": {
      "text/plain": [
       "<matplotlib.axes._subplots.AxesSubplot at 0x1a233789d0>"
      ]
     },
     "execution_count": 11,
     "metadata": {},
     "output_type": "execute_result"
    },
    {
     "data": {
      "image/png": "[encoded data removed]",
      "text/plain": [
       "<Figure size 1440x720 with 1 Axes>"
      ]
     },
     "metadata": {
      "needs_background": "light"
     },
     "output_type": "display_data"
    }
   ],
   "source": [
    "energy_df.boxplot('Energy', by=\"Genre\", figsize=(20, 10))"
   ]
  },
  {
   "cell_type": "code",
   "execution_count": 12,
   "metadata": {},
   "outputs": [],
   "source": [
    "group1 = energy_df[energy_df[\"Genre\"] == 'Country']['Energy']\n",
    "group2 = energy_df[energy_df[\"Genre\"] == 'Dance/Electronic']['Energy']\n",
    "group3 = energy_df[energy_df[\"Genre\"] == 'Folk & Acoustic']['Energy']\n",
    "group4 = energy_df[energy_df[\"Genre\"] == 'Hip Hop']['Energy']\n",
    "# group5 = energy_df[energy_df[\"Genre\"] == 'Indie']['Energy']\n",
    "# group6 = energy_df[energy_df[\"Genre\"] == 'Jazz']['Energy']\n",
    "# group7 = energy_df[energy_df[\"Genre\"] == 'Latin']['Energy']\n",
    "# group8 = energy_df[energy_df[\"Genre\"] == 'Metal']['Energy']\n",
    "# group9 = energy_df[energy_df[\"Genre\"] == 'Pop']['Energy']\n",
    "# group10 = energy_df[energy_df[\"Genre\"] == 'Punk']['Energy']\n",
    "# group11 = energy_df[energy_df[\"Genre\"] == 'R&B']['Energy']\n",
    "# group12 = energy_df[energy_df[\"Genre\"] == 'Rock']['Energy']"
   ]
  },
  {
   "cell_type": "code",
   "execution_count": 13,
   "metadata": {},
   "outputs": [
    {
     "data": {
      "text/plain": [
       "F_onewayResult(statistic=669.8958809312198, pvalue=1.1877620363917822e-279)"
      ]
     },
     "execution_count": 13,
     "metadata": {},
     "output_type": "execute_result"
    }
   ],
   "source": [
    "stats.f_oneway(group1, group2, group3, group4)"
   ]
  },
  {
   "cell_type": "code",
   "execution_count": 14,
   "metadata": {},
   "outputs": [
    {
     "data": {
      "text/html": [
       "<div>\n",
       "<style scoped>\n",
       "    .dataframe tbody tr th:only-of-type {\n",
       "        vertical-align: middle;\n",
       "    }\n",
       "\n",
       "    .dataframe tbody tr th {\n",
       "        vertical-align: top;\n",
       "    }\n",
       "\n",
       "    .dataframe thead th {\n",
       "        text-align: right;\n",
       "    }\n",
       "</style>\n",
       "<table border=\"1\" class=\"dataframe\">\n",
       "  <thead>\n",
       "    <tr style=\"text-align: right;\">\n",
       "      <th></th>\n",
       "      <th>Genre</th>\n",
       "      <th>Valence</th>\n",
       "    </tr>\n",
       "  </thead>\n",
       "  <tbody>\n",
       "    <tr>\n",
       "      <td>0</td>\n",
       "      <td>Pop</td>\n",
       "      <td>0.324</td>\n",
       "    </tr>\n",
       "    <tr>\n",
       "      <td>1</td>\n",
       "      <td>Pop</td>\n",
       "      <td>0.642</td>\n",
       "    </tr>\n",
       "    <tr>\n",
       "      <td>2</td>\n",
       "      <td>Pop</td>\n",
       "      <td>0.562</td>\n",
       "    </tr>\n",
       "    <tr>\n",
       "      <td>3</td>\n",
       "      <td>Pop</td>\n",
       "      <td>0.345</td>\n",
       "    </tr>\n",
       "    <tr>\n",
       "      <td>4</td>\n",
       "      <td>Pop</td>\n",
       "      <td>0.236</td>\n",
       "    </tr>\n",
       "  </tbody>\n",
       "</table>\n",
       "</div>"
      ],
      "text/plain": [
       "  Genre  Valence\n",
       "0   Pop    0.324\n",
       "1   Pop    0.642\n",
       "2   Pop    0.562\n",
       "3   Pop    0.345\n",
       "4   Pop    0.236"
      ]
     },
     "execution_count": 14,
     "metadata": {},
     "output_type": "execute_result"
    }
   ],
   "source": [
    "valence_df = combined_df[['Genre','Valence']]\n",
    "valence_df.head()"
   ]
  },
  {
   "cell_type": "code",
   "execution_count": 15,
   "metadata": {},
   "outputs": [
    {
     "data": {
      "text/plain": [
       "<matplotlib.axes._subplots.AxesSubplot at 0x1a23eeafd0>"
      ]
     },
     "execution_count": 15,
     "metadata": {},
     "output_type": "execute_result"
    },
    {
     "data": {
      "image/png": "[encoded data removed]",
      "text/plain": [
       "<Figure size 1440x720 with 1 Axes>"
      ]
     },
     "metadata": {
      "needs_background": "light"
     },
     "output_type": "display_data"
    }
   ],
   "source": [
    "valence_df.boxplot('Valence', by=\"Genre\", figsize=(20, 10))"
   ]
  },
  {
   "cell_type": "code",
   "execution_count": 16,
   "metadata": {},
   "outputs": [],
   "source": [
    "group1 = valence_df[valence_df[\"Genre\"] == 'Country']['Valence']\n",
    "group2 = valence_df[valence_df[\"Genre\"] == 'Dance/Electronic']['Valence']\n",
    "group3 = valence_df[valence_df[\"Genre\"] == 'Folk & Acoustic']['Valence']\n",
    "group4 = valence_df[valence_df[\"Genre\"] == 'Hip Hop']['Valence']\n",
    "group5 = valence_df[valence_df[\"Genre\"] == 'Indie']['Valence']\n",
    "group6 = valence_df[valence_df[\"Genre\"] == 'Jazz']['Valence']\n",
    "group7 = valence_df[valence_df[\"Genre\"] == 'Latin']['Valence']\n",
    "group8 = valence_df[valence_df[\"Genre\"] == 'Metal']['Valence']\n",
    "group9 = valence_df[valence_df[\"Genre\"] == 'Pop']['Valence']\n",
    "group10 = valence_df[valence_df[\"Genre\"] == 'Punk']['Valence']\n",
    "group11 = valence_df[valence_df[\"Genre\"] == 'R&B']['Valence']\n",
    "group12 = valence_df[valence_df[\"Genre\"] == 'Rock']['Valence']"
   ]
  },
  {
   "cell_type": "code",
   "execution_count": 17,
   "metadata": {},
   "outputs": [
    {
     "data": {
      "text/plain": [
       "F_onewayResult(statistic=103.06836623978187, pvalue=1.1841460730152888e-209)"
      ]
     },
     "execution_count": 17,
     "metadata": {},
     "output_type": "execute_result"
    }
   ],
   "source": [
    "stats.f_oneway(group1, group2, group3, group4, group5, group6, group7, group8, group9, group10, group11, group12)"
   ]
  },
  {
   "cell_type": "code",
   "execution_count": 18,
   "metadata": {},
   "outputs": [
    {
     "data": {
      "text/html": [
       "<div>\n",
       "<style scoped>\n",
       "    .dataframe tbody tr th:only-of-type {\n",
       "        vertical-align: middle;\n",
       "    }\n",
       "\n",
       "    .dataframe tbody tr th {\n",
       "        vertical-align: top;\n",
       "    }\n",
       "\n",
       "    .dataframe thead th {\n",
       "        text-align: right;\n",
       "    }\n",
       "</style>\n",
       "<table border=\"1\" class=\"dataframe\">\n",
       "  <thead>\n",
       "    <tr style=\"text-align: right;\">\n",
       "      <th></th>\n",
       "      <th>Genre</th>\n",
       "      <th>Track Popularity</th>\n",
       "    </tr>\n",
       "  </thead>\n",
       "  <tbody>\n",
       "    <tr>\n",
       "      <td>0</td>\n",
       "      <td>Pop</td>\n",
       "      <td>89</td>\n",
       "    </tr>\n",
       "    <tr>\n",
       "      <td>1</td>\n",
       "      <td>Pop</td>\n",
       "      <td>100</td>\n",
       "    </tr>\n",
       "    <tr>\n",
       "      <td>2</td>\n",
       "      <td>Pop</td>\n",
       "      <td>95</td>\n",
       "    </tr>\n",
       "    <tr>\n",
       "      <td>3</td>\n",
       "      <td>Pop</td>\n",
       "      <td>98</td>\n",
       "    </tr>\n",
       "    <tr>\n",
       "      <td>4</td>\n",
       "      <td>Pop</td>\n",
       "      <td>98</td>\n",
       "    </tr>\n",
       "  </tbody>\n",
       "</table>\n",
       "</div>"
      ],
      "text/plain": [
       "  Genre  Track Popularity\n",
       "0   Pop                89\n",
       "1   Pop               100\n",
       "2   Pop                95\n",
       "3   Pop                98\n",
       "4   Pop                98"
      ]
     },
     "execution_count": 18,
     "metadata": {},
     "output_type": "execute_result"
    }
   ],
   "source": [
    "#Null hypothesis = there is no statistical significant difference\n",
    "popularity_df = combined_df[['Genre','Track Popularity']]\n",
    "popularity_df.head()"
   ]
  },
  {
   "cell_type": "code",
   "execution_count": 19,
   "metadata": {},
   "outputs": [
    {
     "data": {
      "text/plain": [
       "<matplotlib.axes._subplots.AxesSubplot at 0x1a24070390>"
      ]
     },
     "execution_count": 19,
     "metadata": {},
     "output_type": "execute_result"
    },
    {
     "data": {
      "image/png": "[encoded data removed]",
      "text/plain": [
       "<Figure size 1440x720 with 1 Axes>"
      ]
     },
     "metadata": {
      "needs_background": "light"
     },
     "output_type": "display_data"
    }
   ],
   "source": [
    "#Create a boxplot to compare means\n",
    "popularity_df.boxplot('Track Popularity', by=\"Genre\", figsize=(20, 10))"
   ]
  },
  {
   "cell_type": "code",
   "execution_count": 20,
   "metadata": {},
   "outputs": [],
   "source": [
    "#Extract individual groups\n",
    "group1 = popularity_df[popularity_df[\"Genre\"] == 'Country']['Track Popularity']\n",
    "group2 = popularity_df[popularity_df[\"Genre\"] == 'Dance/Electronic']['Track Popularity']\n",
    "group3 = popularity_df[popularity_df[\"Genre\"] == 'Folk & Acoustic']['Track Popularity']\n",
    "group4 = popularity_df[popularity_df[\"Genre\"] == 'Hip Hop']['Track Popularity']\n",
    "group5 = popularity_df[popularity_df[\"Genre\"] == 'Indie']['Track Popularity']\n",
    "group6 = popularity_df[popularity_df[\"Genre\"] == 'Jazz']['Track Popularity']\n",
    "group7 = popularity_df[popularity_df[\"Genre\"] == 'Latin']['Track Popularity']\n",
    "group8 = popularity_df[popularity_df[\"Genre\"] == 'Metal']['Track Popularity']\n",
    "group9 = popularity_df[popularity_df[\"Genre\"] == 'Pop']['Track Popularity']\n",
    "group10 = popularity_df[popularity_df[\"Genre\"] == 'Punk']['Track Popularity']\n",
    "group11 = popularity_df[popularity_df[\"Genre\"] == 'R&B']['Track Popularity']\n",
    "group12 = popularity_df[popularity_df[\"Genre\"] == 'Rock']['Track Popularity']"
   ]
  },
  {
   "cell_type": "code",
   "execution_count": 21,
   "metadata": {},
   "outputs": [
    {
     "data": {
      "text/plain": [
       "F_onewayResult(statistic=132.85625258384815, pvalue=2.720423652479531e-264)"
      ]
     },
     "execution_count": 21,
     "metadata": {},
     "output_type": "execute_result"
    }
   ],
   "source": [
    "#Perform the ANOVA\n",
    "stats.f_oneway(group1, group2, group3, group4, group5, group6, group7, group8, group9, group10, group11, group12)"
   ]
  },
  {
   "cell_type": "code",
   "execution_count": 22,
   "metadata": {},
   "outputs": [
    {
     "data": {
      "text/plain": [
       "Track Popularity    67.442529\n",
       "dtype: float64"
      ]
     },
     "execution_count": 22,
     "metadata": {},
     "output_type": "execute_result"
    }
   ],
   "source": [
    "#Pull Hip Hop Popularity data from Popularity DataFrame and calculate mean\n",
    "hip_hop_popuarity = popularity_df[popularity_df['Genre'] == 'Hip Hop']\n",
    "hip_hop_popuarity.mean()"
   ]
  },
  {
   "cell_type": "code",
   "execution_count": 23,
   "metadata": {},
   "outputs": [
    {
     "data": {
      "text/plain": [
       "Track Popularity    45.024444\n",
       "dtype: float64"
      ]
     },
     "execution_count": 23,
     "metadata": {},
     "output_type": "execute_result"
    }
   ],
   "source": [
    "#Pull Folk & Acoustic Popularity data from Popularity DataFrame and calculate mean\n",
    "folk_popuarity = popularity_df[popularity_df['Genre'] == 'Folk & Acoustic']\n",
    "folk_popuarity.mean()"
   ]
  },
  {
   "cell_type": "code",
   "execution_count": 24,
   "metadata": {},
   "outputs": [],
   "source": [
    "#Convert Hip Pop Popularity and Folk & Acoustic Popularity dataframes to lists \n",
    "hh_popularity_list = hip_hop_popuarity['Track Popularity'].tolist()\n",
    "folk_popularity_list = folk_popuarity['Track Popularity'].tolist()"
   ]
  },
  {
   "cell_type": "code",
   "execution_count": 25,
   "metadata": {},
   "outputs": [
    {
     "data": {
      "text/plain": [
       "Ttest_indResult(statistic=20.832052210007966, pvalue=2.3842308482254018e-76)"
      ]
     },
     "execution_count": 25,
     "metadata": {},
     "output_type": "execute_result"
    }
   ],
   "source": [
    "#Perform Ttest\n",
    "stats.ttest_ind(hh_popularity_list, folk_popularity_list, equal_var=False)"
   ]
  },
  {
   "cell_type": "code",
   "execution_count": 26,
   "metadata": {},
   "outputs": [
    {
     "data": {
      "text/plain": [
       "Track Popularity    45.830303\n",
       "dtype: float64"
      ]
     },
     "execution_count": 26,
     "metadata": {},
     "output_type": "execute_result"
    }
   ],
   "source": [
    "#Pull Jazz Popularity data from Popularity DataFrame and calculate mean\n",
    "jazz_popuarity = popularity_df[popularity_df['Genre'] == 'Jazz']\n",
    "jazz_popuarity.mean()"
   ]
  },
  {
   "cell_type": "code",
   "execution_count": 27,
   "metadata": {},
   "outputs": [
    {
     "data": {
      "text/plain": [
       "Track Popularity    69.25\n",
       "dtype: float64"
      ]
     },
     "execution_count": 27,
     "metadata": {},
     "output_type": "execute_result"
    }
   ],
   "source": [
    "#Pull Latin Popularity data from Popularity DataFrame and calculate mean\n",
    "latin_popuarity = popularity_df[popularity_df['Genre'] == 'Latin']\n",
    "latin_popuarity.mean()"
   ]
  },
  {
   "cell_type": "code",
   "execution_count": 28,
   "metadata": {},
   "outputs": [],
   "source": [
    "#Convert Jazz Popularity and Latin Popularity dataframes to lists \n",
    "jazz_popularity_list = jazz_popuarity['Track Popularity'].tolist()\n",
    "latin_popularity_list = latin_popuarity['Track Popularity'].tolist()"
   ]
  },
  {
   "cell_type": "code",
   "execution_count": 30,
   "metadata": {},
   "outputs": [
    {
     "data": {
      "text/plain": [
       "Ttest_indResult(statistic=-19.60616958483445, pvalue=5.707523058618479e-69)"
      ]
     },
     "execution_count": 30,
     "metadata": {},
     "output_type": "execute_result"
    }
   ],
   "source": [
    "#Perform Ttest\n",
    "stats.ttest_ind(jazz_popularity_list, latin_popularity_list, equal_var=False)"
   ]
  },
  {
   "cell_type": "code",
   "execution_count": null,
   "metadata": {},
   "outputs": [],
   "source": [
    "grouped_valence_df = valence_df.groupby(['Genre'])\n",
    "# grouped_valence_df.head()"
   ]
  },
  {
   "cell_type": "code",
   "execution_count": 168,
   "metadata": {},
   "outputs": [],
   "source": [
    "# Independent T-Tests\n",
    "# Independent t-tests will compare the means of 2 independent populations.\n",
    "\n",
    "# use ANOVA to see which are similar and then pick genres to do ttests on \n",
    " \n",
    "# # Assumptions\n",
    "# # Data is normally distributed\n",
    "# # Data is independent\n",
    "# # Data is homogenous (The standard deviations are roughly equal)\n",
    "# # https://docs.scipy.org/doc/scipy/reference/generated/scipy.stats.ttest_ind.html\n",
    "\n",
    "# #group by genre here and run independent t-test on different audio features\n",
    "# #do value count of genres and run analysis on ones with most tracks\n",
    "\n",
    "# # def valencedata():\n",
    "# hip_hop_valence = valence_df[valence_df['Genre'] == 'Hip Hop']\n",
    "# # len(hip_hop_valence)\n",
    "# country_valence = valence_df[valence_df['Genre'] == 'Country']\n",
    "\n",
    "\n",
    "\n",
    "# hh_valence_list = hip_hop_valence['Genre'].tolist()\n",
    "# country_valence_list = country_valence['Genre'].tolist()\n",
    "\n",
    "# genres = valence_df['Genre'].unique()\n",
    "# print(*genres)\n",
    "\n",
    "\n",
    "# # len(country_valence)\n",
    "# # Scatter Plot of Data\n",
    "# plt.subplot(2, 1, 1)\n",
    "# plt.scatter(range(hh_valence_list),  genres, label=\"Hip Pop - Valence\")\n",
    "# plt.scatter(range(country_valence_list), genres, label=\"Country - Valence\")\n",
    "# plt.legend()\n",
    "\n",
    "# # color_dict = dict({'Country': \"Pink\",\n",
    "# #                    'Dance/Electronic': \"Crimson\",\n",
    "# #                    'Folk & Acoustic': \"Peachpuff\",\n",
    "# #                    'Hip Hop': \"Orange\",\n",
    "# #                    'Indie': \"skyblue\",\n",
    "# #                    'Jazz': \"dodgerblue\",\n",
    "# #                    'Latin': \"plum\",\n",
    "# #                    'Metal': \"purple\",\n",
    "# #                    'Pop': \"lightgreen\",\n",
    "# #                    'Punk': \"green\",\n",
    "# #                    'R&B': \"yellow\",\n",
    "# #                    'Rock': \"gold\"\n",
    "# #                   })\n",
    "# # # basic scatterplot\n",
    "# # sns.set_style('whitegrid')\n",
    "# # sns.scatterplot(x=range(len(hip_hop_valence)), y=hip_hop_valence, hue=\"Genre\", data=hip_hop_valence, \n",
    "# #                 palette=color_dict, fit_reg=False)\n",
    "\n",
    "# #g = sns.FacetGrid(valence_df, col='Valence', hue=\"Genre\")\n",
    "# #g.map(plt.scatter, \"Genre\", \"Valence\", alpha=.7)\n",
    "# #g.add_legend();hip_hop_valence\n",
    "\n",
    "# #ax = sns.scatterplot(x=\"Genre\", y=\"Valence\", data=valence_df)\n",
    "\n",
    "# # Histogram Plot of Data\n",
    "# # plt.subplot(2, 1, 2)\n",
    "# # plt.hist(hip_hop_valence, 10, density=True, alpha=0.7, label=\"Hip Pop - Valence\")\n",
    "# # plt.hist(country_valence, 10, density=True, alpha=0.7, label=\"Country - Valence\")\n",
    "# # plt.axvline(hip_hop_valence.mean(), color='k', linestyle='dashed', linewidth=1)\n",
    "# # plt.axvline(country_valence.mean(), color='k', linestyle='dashed', linewidth=1)\n",
    "# # plt.legend()  \n",
    "    \n",
    "# #     return hip_hop_valence, country_valence\n",
    "\n",
    "# # hip_hop_valence.count()"
   ]
  },
  {
   "cell_type": "code",
   "execution_count": 104,
   "metadata": {},
   "outputs": [
    {
     "data": {
      "text/plain": [
       "Valence    0.530718\n",
       "dtype: float64"
      ]
     },
     "execution_count": 104,
     "metadata": {},
     "output_type": "execute_result"
    }
   ],
   "source": [
    "hip_hop_valence = valence_df[valence_df['Genre'] == 'Hip Hop']\n",
    "hip_hop_valence.mean()"
   ]
  },
  {
   "cell_type": "code",
   "execution_count": 105,
   "metadata": {},
   "outputs": [
    {
     "data": {
      "text/plain": [
       "Valence    0.569488\n",
       "dtype: float64"
      ]
     },
     "execution_count": 105,
     "metadata": {},
     "output_type": "execute_result"
    }
   ],
   "source": [
    "country_valence = valence_df[valence_df['Genre'] == 'Country']\n",
    "country_valence.mean()"
   ]
  },
  {
   "cell_type": "code",
   "execution_count": 108,
   "metadata": {},
   "outputs": [
    {
     "data": {
      "text/plain": [
       "Ttest_indResult(statistic=nan, pvalue=nan)"
      ]
     },
     "execution_count": 108,
     "metadata": {},
     "output_type": "execute_result"
    }
   ],
   "source": [
    "stats.ttest_ind(hip_hop_valence.mean(), country_valence.mean(), equal_var=False)"
   ]
  },
  {
   "cell_type": "code",
   "execution_count": null,
   "metadata": {},
   "outputs": [],
   "source": []
  }
 ],
 "metadata": {
  "kernelspec": {
   "display_name": "Python 3",
   "language": "python",
   "name": "python3"
  },
  "language_info": {
   "codemirror_mode": {
    "name": "ipython",
    "version": 3
   },
   "file_extension": ".py",
   "mimetype": "text/x-python",
   "name": "python",
   "nbconvert_exporter": "python",
   "pygments_lexer": "ipython3",
   "version": "3.7.4"
  }
 },
 "nbformat": 4,
 "nbformat_minor": 2
}
